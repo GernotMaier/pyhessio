{
 "cells": [
  {
   "cell_type": "code",
   "execution_count": 1,
   "metadata": {
    "collapsed": false
   },
   "outputs": [],
   "source": [
    "from pyhessio import HessioFile, HessioError, close_file,  open"
   ]
  },
  {
   "cell_type": "code",
   "execution_count": 9,
   "metadata": {
    "collapsed": false
   },
   "outputs": [
    {
     "name": "stdout",
     "output_type": "stream",
     "text": [
      "run id 31964:, event number: 408\n",
      "    Triggered telescopes for this event: [38 47]\n",
      "run id 31964:, event number: 409\n",
      "    Triggered telescopes for this event: [ 11  21  24  26  61  63 118 119]\n",
      "run id 31964:, event number: 803\n",
      "    Triggered telescopes for this event: [ 17 104 124]\n",
      "run id 31964:, event number: 4907\n",
      "    Triggered telescopes for this event: [ 1  2  4 14 15 17 19]\n",
      "run id 31964:, event number: 9508\n",
      "    Triggered telescopes for this event: [ 2  3  4 10 12 25]\n",
      "run id 31964:, event number: 10104\n",
      "    Triggered telescopes for this event: [ 8 16]\n",
      "run id 31964:, event number: 10109\n",
      "    Triggered telescopes for this event: [26 28]\n",
      "run id 31964:, event number: 11905\n",
      "    Triggered telescopes for this event: [1 3 4]\n",
      "run id 31964:, event number: 12202\n",
      "    Triggered telescopes for this event: [  9  12  25  62  71 102 110 117 126]\n"
     ]
    }
   ],
   "source": [
    "with open('pyhessio-extra/datasets/gamma_test.simtel.gz') as f:\n",
    "    for run, event in f.move_to_next_event():\n",
    "        print('run id {}:, event number: {}'.format(run , event))\n",
    "        print('    Triggered telescopes for this event: {}'.format(f.get_telescope_with_data_list()))"
   ]
  },
  {
   "cell_type": "code",
   "execution_count": null,
   "metadata": {
    "collapsed": true
   },
   "outputs": [],
   "source": []
  }
 ],
 "metadata": {
  "anaconda-cloud": {},
  "kernelspec": {
   "display_name": "Python [conda env:cta]",
   "language": "python",
   "name": "conda-env-cta-py"
  },
  "language_info": {
   "codemirror_mode": {
    "name": "ipython",
    "version": 3
   },
   "file_extension": ".py",
   "mimetype": "text/x-python",
   "name": "python",
   "nbconvert_exporter": "python",
   "pygments_lexer": "ipython3",
   "version": "3.5.2"
  }
 },
 "nbformat": 4,
 "nbformat_minor": 0
}
