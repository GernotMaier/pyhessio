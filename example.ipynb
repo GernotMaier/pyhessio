{
 "cells": [
  {
   "cell_type": "markdown",
   "metadata": {},
   "source": [
    "# pyhessio notebook example\n",
    "\n",
    "## It is madatory to open hessio MC file with pyhessio context manager.\n",
    "This notebook shows 2 differents ways of looping over data and 2 differents ways of looping over MC data"
   ]
  },
  {
   "cell_type": "code",
   "execution_count": 1,
   "metadata": {
    "collapsed": true
   },
   "outputs": [],
   "source": [
    "from pyhessio import open_hessio, HessioError"
   ]
  },
  {
   "cell_type": "markdown",
   "metadata": {},
   "source": [
    "### loop ever the 5 first events using generator function move_to_next_event"
   ]
  },
  {
   "cell_type": "code",
   "execution_count": 2,
   "metadata": {
    "collapsed": false
   },
   "outputs": [
    {
     "name": "stdout",
     "output_type": "stream",
     "text": [
      "run id 31964:, event number: 408\n",
      "    Triggered telescopes for this event: [38 47]\n",
      "run id 31964:, event number: 409\n",
      "    Triggered telescopes for this event: [ 11  21  24  26  61  63 118 119]\n",
      "run id 31964:, event number: 803\n",
      "    Triggered telescopes for this event: [ 17 104 124]\n",
      "run id 31964:, event number: 4907\n",
      "    Triggered telescopes for this event: [ 1  2  4 14 15 17 19]\n",
      "run id 31964:, event number: 9508\n",
      "    Triggered telescopes for this event: [ 2  3  4 10 12 25]\n"
     ]
    }
   ],
   "source": [
    "with open_hessio('pyhessio-extra/datasets/gamma_test.simtel.gz') as event:\n",
    "    for event_id in event.move_to_next_event(limit=5):\n",
    "        print('run id {}:, event number: {}'.format(event.get_run_number() , event_id))\n",
    "        print('    Triggered telescopes for this event: {}'.format(event.get_telescope_with_data_list()))"
   ]
  },
  {
   "cell_type": "markdown",
   "metadata": {},
   "source": [
    "### loop ever event using function fill_next_event and catch HessioError Exception "
   ]
  },
  {
   "cell_type": "code",
   "execution_count": 3,
   "metadata": {
    "collapsed": false
   },
   "outputs": [
    {
     "name": "stdout",
     "output_type": "stream",
     "text": [
      "run id 31964:, event number: 408\n",
      "    Triggered telescopes for this event: [38 47]\n",
      "run id 31964:, event number: 409\n",
      "    Triggered telescopes for this event: [ 11  21  24  26  61  63 118 119]\n",
      "run id 31964:, event number: 803\n",
      "    Triggered telescopes for this event: [ 17 104 124]\n",
      "run id 31964:, event number: 4907\n",
      "    Triggered telescopes for this event: [ 1  2  4 14 15 17 19]\n",
      "run id 31964:, event number: 9508\n",
      "    Triggered telescopes for this event: [ 2  3  4 10 12 25]\n",
      "run id 31964:, event number: 10104\n",
      "    Triggered telescopes for this event: [ 8 16]\n",
      "run id 31964:, event number: 10109\n",
      "    Triggered telescopes for this event: [26 28]\n",
      "run id 31964:, event number: 11905\n",
      "    Triggered telescopes for this event: [1 3 4]\n",
      "run id 31964:, event number: 12202\n",
      "    Triggered telescopes for this event: [  9  12  25  62  71 102 110 117 126]\n"
     ]
    }
   ],
   "source": [
    "with open_hessio('pyhessio-extra/datasets/gamma_test.simtel.gz') as event:\n",
    "    while True:\n",
    "        try:\n",
    "            event_id = event.fill_next_event()\n",
    "            print('run id {}:, event number: {}'.format(event.get_run_number() , event_id))\n",
    "            print('    Triggered telescopes for this event: {}'.format(event.get_telescope_with_data_list()))\n",
    "        except HessioError:\n",
    "            break"
   ]
  },
  {
   "cell_type": "markdown",
   "metadata": {
    "collapsed": true
   },
   "source": [
    "### loop ever the 10 first MC events using generator function move_to_next_event "
   ]
  },
  {
   "cell_type": "code",
   "execution_count": 4,
   "metadata": {
    "collapsed": false
   },
   "outputs": [
    {
     "name": "stdout",
     "output_type": "stream",
     "text": [
      "run id 31964:, event number: 100\n",
      "    Shower energy: 0.003922517877072096\n",
      "run id 31964:, event number: 101\n",
      "    Shower energy: 0.003922517877072096\n",
      "run id 31964:, event number: 102\n",
      "    Shower energy: 0.003922517877072096\n",
      "run id 31964:, event number: 103\n",
      "    Shower energy: 0.003922517877072096\n",
      "run id 31964:, event number: 104\n",
      "    Shower energy: 0.003922517877072096\n",
      "run id 31964:, event number: 105\n",
      "    Shower energy: 0.003922517877072096\n",
      "run id 31964:, event number: 106\n",
      "    Shower energy: 0.003922517877072096\n",
      "run id 31964:, event number: 107\n",
      "    Shower energy: 0.003922517877072096\n",
      "run id 31964:, event number: 108\n",
      "    Shower energy: 0.003922517877072096\n",
      "run id 31964:, event number: 109\n",
      "    Shower energy: 0.003922517877072096\n"
     ]
    }
   ],
   "source": [
    "with open_hessio('pyhessio-extra/datasets/gamma_test.simtel.gz') as event:\n",
    "    for event_id in event.move_to_next_mc_event(limit=10):\n",
    "        print('run id {}:, event number: {}'.format(event.get_run_number() , event_id))\n",
    "        print('    Shower energy: {}'.format(event.get_mc_shower_energy()))"
   ]
  },
  {
   "cell_type": "markdown",
   "metadata": {
    "collapsed": true
   },
   "source": [
    "### loop ever the 10 first MC event using function move_to_next_mc_event "
   ]
  },
  {
   "cell_type": "code",
   "execution_count": 5,
   "metadata": {
    "collapsed": false
   },
   "outputs": [
    {
     "name": "stdout",
     "output_type": "stream",
     "text": [
      "run id 31964:, event number: 100\n",
      "    Shower energy: 0.003922517877072096\n",
      "run id 31964:, event number: 101\n",
      "    Shower energy: 0.003922517877072096\n",
      "run id 31964:, event number: 102\n",
      "    Shower energy: 0.003922517877072096\n",
      "run id 31964:, event number: 103\n",
      "    Shower energy: 0.003922517877072096\n",
      "run id 31964:, event number: 104\n",
      "    Shower energy: 0.003922517877072096\n",
      "run id 31964:, event number: 105\n",
      "    Shower energy: 0.003922517877072096\n",
      "run id 31964:, event number: 106\n",
      "    Shower energy: 0.003922517877072096\n",
      "run id 31964:, event number: 107\n",
      "    Shower energy: 0.003922517877072096\n",
      "run id 31964:, event number: 108\n",
      "    Shower energy: 0.003922517877072096\n",
      "run id 31964:, event number: 109\n",
      "    Shower energy: 0.003922517877072096\n"
     ]
    }
   ],
   "source": [
    "with open_hessio('pyhessio-extra/datasets/gamma_test.simtel.gz') as event:\n",
    "    nb_read_event = 0\n",
    "    while nb_read_event < 10:\n",
    "        try:\n",
    "            event_id = event.fill_next_mc_event()\n",
    "            print('run id {}:, event number: {}'.format(event.get_run_number() , event_id))\n",
    "            print('    Shower energy: {}'.format(event.get_mc_shower_energy()))\n",
    "            nb_read_event += 1\n",
    "        except HessioError:\n",
    "            break"
   ]
  },
  {
   "cell_type": "code",
   "execution_count": null,
   "metadata": {
    "collapsed": true
   },
   "outputs": [],
   "source": [
    "|"
   ]
  }
 ],
 "metadata": {
  "anaconda-cloud": {},
  "kernelspec": {
   "display_name": "Python [conda env:cta]",
   "language": "python",
   "name": "conda-env-cta-py"
  },
  "language_info": {
   "codemirror_mode": {
    "name": "ipython",
    "version": 3
   },
   "file_extension": ".py",
   "mimetype": "text/x-python",
   "name": "python",
   "nbconvert_exporter": "python",
   "pygments_lexer": "ipython3",
   "version": "3.5.2"
  }
 },
 "nbformat": 4,
 "nbformat_minor": 0
}
